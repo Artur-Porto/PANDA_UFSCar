{
  "nbformat": 4,
  "nbformat_minor": 0,
  "metadata": {
    "colab": {
      "provenance": []
    },
    "kernelspec": {
      "name": "python3",
      "display_name": "Python 3"
    },
    "language_info": {
      "name": "python"
    }
  },
  "cells": [
    {
      "cell_type": "markdown",
      "source": [
        "NOME: Artur Porto"
      ],
      "metadata": {
        "id": "_dQS2n7cUYFt"
      }
    },
    {
      "cell_type": "markdown",
      "source": [
        "Foi escolhida a base de dados \"Popularidade de nomes de bebes nos EUA\"\n",
        "\n",
        "Disponível em:\n",
        "\n",
        "https://www.kaggle.com/datasets/robikscube/us-baby-name-popularity"
      ],
      "metadata": {
        "id": "lICVUtQY2IUc"
      }
    },
    {
      "cell_type": "markdown",
      "source": [
        "Temos dois arquivos ao baixar essa base de dados.\n",
        "O primeiro, \"names.csv\", contem 4 colunas (name, sex, count, year).\n"
      ],
      "metadata": {
        "id": "fGWT-Msu2J7V"
      }
    },
    {
      "cell_type": "markdown",
      "source": [
        "O segundo, \"states.csv\", contem 7 colunas (state, sex, year, name, count, total, count_normalized)."
      ],
      "metadata": {
        "id": "f-SNxkml3XMv"
      }
    },
    {
      "cell_type": "markdown",
      "source": [
        "Descrição dos atributos presentes na base."
      ],
      "metadata": {
        "id": "hh030GCw54S3"
      }
    },
    {
      "cell_type": "markdown",
      "source": [
        "Para os dados de Names:\n",
        "    \n",
        "*   Name: Nome\n",
        "*   Sex: Sexo\n",
        "*  Count: Contagem de ocorrencias do nome por ano\n",
        "*  Year: Ano\n",
        "\n"
      ],
      "metadata": {
        "id": "9NnmZjGG56U8"
      }
    },
    {
      "cell_type": "markdown",
      "source": [
        "Para os dados de States:\n",
        "*   **State**:    Estado\n",
        "*   **Sex**: Sexo\n",
        "*  **Year**: Ano\n",
        "*  **Name**: Nome\n",
        "* **Count**: Contagem de ocorrencias do nome no ano\n",
        "* **Total**: Contagem de ocorrencias do nome por estado, sexo e ano\n",
        "* **Count_normalized**: Count/Total"
      ],
      "metadata": {
        "id": "ufMIYeMm6vv_"
      }
    },
    {
      "cell_type": "markdown",
      "source": [
        "PERGINTAS\n",
        "\n",
        "\n",
        "*   O nome mais registrado no total também será o mais registrado no estado com mais nome registrados? (impreciso)\n",
        "*   È possivel ter uma ideia do crescimeto populacional no pais??\n",
        "*   Item 3\n",
        "\n"
      ],
      "metadata": {
        "id": "vFHM0vsEhw3G"
      }
    },
    {
      "cell_type": "code",
      "execution_count": null,
      "metadata": {
        "id": "3DWD7G39TasJ"
      },
      "outputs": [],
      "source": [
        "import numpy as np\n",
        "import pandas as pd\n",
        "import statistics as st\n",
        "import matplotlib.pyplot as plt\n",
        "from collections import Counter\n",
        "import plotly.express as px\n",
        "import plotly.graph_objs as go\n",
        "import seaborn as sns\n",
        "from glob import glob"
      ]
    },
    {
      "cell_type": "markdown",
      "source": [
        "Importando os dados:"
      ],
      "metadata": {
        "id": "f3mmH1fn2yI9"
      }
    },
    {
      "cell_type": "code",
      "source": [
        "names = pd.read_csv('names.csv')\n",
        "#states = pd.read_csv('states.csv')"
      ],
      "metadata": {
        "id": "LiXZ0GL621SX"
      },
      "execution_count": null,
      "outputs": []
    },
    {
      "cell_type": "markdown",
      "source": [
        "EXPLORAÇÃO INICIAL\n"
      ],
      "metadata": {
        "id": "ulnwACTG4pVQ"
      }
    },
    {
      "cell_type": "markdown",
      "source": [
        "Descrição geral da base"
      ],
      "metadata": {
        "id": "hSoRELva46sT"
      }
    },
    {
      "cell_type": "code",
      "source": [
        "names.shape"
      ],
      "metadata": {
        "colab": {
          "base_uri": "https://localhost:8080/"
        },
        "id": "_qo1HcPu4tPs",
        "outputId": "c06c7922-31c9-45df-c1b0-6a8ac64e5e0d"
      },
      "execution_count": null,
      "outputs": [
        {
          "output_type": "execute_result",
          "data": {
            "text/plain": [
              "(2052781, 4)"
            ]
          },
          "metadata": {},
          "execution_count": 3
        }
      ]
    },
    {
      "cell_type": "markdown",
      "source": [
        "2052781 linhas e 4 colunas"
      ],
      "metadata": {
        "id": "IZVnLuJ-5lkN"
      }
    },
    {
      "cell_type": "code",
      "source": [
        "names.columns"
      ],
      "metadata": {
        "colab": {
          "base_uri": "https://localhost:8080/"
        },
        "id": "yu1W6J9E_qKX",
        "outputId": "20549f51-4973-484a-d1d2-df79e6edf7e4"
      },
      "execution_count": null,
      "outputs": [
        {
          "output_type": "execute_result",
          "data": {
            "text/plain": [
              "Index(['Name', 'Sex', 'Count', 'Year'], dtype='object')"
            ]
          },
          "metadata": {},
          "execution_count": 9
        }
      ]
    },
    {
      "cell_type": "code",
      "source": [
        "states.shape"
      ],
      "metadata": {
        "colab": {
          "base_uri": "https://localhost:8080/"
        },
        "id": "i1yQwK675EEE",
        "outputId": "46e27481-d3bd-48dc-c32e-ebf079be2012"
      },
      "execution_count": null,
      "outputs": [
        {
          "output_type": "execute_result",
          "data": {
            "text/plain": [
              "(6337734, 7)"
            ]
          },
          "metadata": {},
          "execution_count": 4
        }
      ]
    },
    {
      "cell_type": "markdown",
      "source": [
        "6337734 linhas e 7 colunas"
      ],
      "metadata": {
        "id": "DLu1jG-a5mB-"
      }
    },
    {
      "cell_type": "code",
      "source": [
        "states.columns"
      ],
      "metadata": {
        "colab": {
          "base_uri": "https://localhost:8080/"
        },
        "id": "R24-PB6A_3tQ",
        "outputId": "e321eee6-2a2e-4b23-f130-5d131ab01a5e"
      },
      "execution_count": null,
      "outputs": [
        {
          "output_type": "execute_result",
          "data": {
            "text/plain": [
              "Index(['State', 'Sex', 'Year', 'Name', 'Count', 'Total', 'Count_Normalized'], dtype='object')"
            ]
          },
          "metadata": {},
          "execution_count": 10
        }
      ]
    },
    {
      "cell_type": "code",
      "source": [
        "names.isna().mean().round(4).mul(100).sort_values(ascending=False)[:50]"
      ],
      "metadata": {
        "colab": {
          "base_uri": "https://localhost:8080/"
        },
        "id": "0IESkd-a_9Jq",
        "outputId": "7a265f6e-35d1-43bc-c6cd-b88263bef849"
      },
      "execution_count": null,
      "outputs": [
        {
          "output_type": "execute_result",
          "data": {
            "text/plain": [
              "Name     0.0\n",
              "Sex      0.0\n",
              "Count    0.0\n",
              "Year     0.0\n",
              "dtype: float64"
            ]
          },
          "metadata": {},
          "execution_count": 11
        }
      ]
    },
    {
      "cell_type": "markdown",
      "source": [
        "Sem dados em branco/faltando"
      ],
      "metadata": {
        "id": "FGnZRyV-_9wU"
      }
    },
    {
      "cell_type": "code",
      "source": [
        "states.isna().mean().round(4).mul(100).sort_values(ascending=False)[:50]"
      ],
      "metadata": {
        "colab": {
          "base_uri": "https://localhost:8080/"
        },
        "id": "BIaMRUkn_-D_",
        "outputId": "684a3963-de31-4e43-ab13-5bcf385f420d"
      },
      "execution_count": null,
      "outputs": [
        {
          "output_type": "execute_result",
          "data": {
            "text/plain": [
              "State               0.0\n",
              "Sex                 0.0\n",
              "Year                0.0\n",
              "Name                0.0\n",
              "Count               0.0\n",
              "Total               0.0\n",
              "Count_Normalized    0.0\n",
              "dtype: float64"
            ]
          },
          "metadata": {},
          "execution_count": 12
        }
      ]
    },
    {
      "cell_type": "markdown",
      "source": [
        "Sem dados em branco/faltando"
      ],
      "metadata": {
        "id": "glhsUdG2_-Vu"
      }
    },
    {
      "cell_type": "markdown",
      "source": [
        "Vizualização inicial:"
      ],
      "metadata": {
        "id": "y7H8OxSm8dg8"
      }
    },
    {
      "cell_type": "code",
      "source": [
        "names.head()"
      ],
      "metadata": {
        "id": "90VKxRe-8gNT",
        "colab": {
          "base_uri": "https://localhost:8080/",
          "height": 206
        },
        "outputId": "1af041a2-3821-413c-fd3e-36f17bf23091"
      },
      "execution_count": null,
      "outputs": [
        {
          "output_type": "execute_result",
          "data": {
            "text/plain": [
              "      Name Sex  Count  Year\n",
              "0    Emily   F  25735  1997\n",
              "1  Jessica   F  21044  1997\n",
              "2   Ashley   F  20895  1997\n",
              "3    Sarah   F  20712  1997\n",
              "4   Hannah   F  20594  1997"
            ],
            "text/html": [
              "\n",
              "  <div id=\"df-3b7739b6-c35c-4dde-bd24-694169f1c92f\">\n",
              "    <div class=\"colab-df-container\">\n",
              "      <div>\n",
              "<style scoped>\n",
              "    .dataframe tbody tr th:only-of-type {\n",
              "        vertical-align: middle;\n",
              "    }\n",
              "\n",
              "    .dataframe tbody tr th {\n",
              "        vertical-align: top;\n",
              "    }\n",
              "\n",
              "    .dataframe thead th {\n",
              "        text-align: right;\n",
              "    }\n",
              "</style>\n",
              "<table border=\"1\" class=\"dataframe\">\n",
              "  <thead>\n",
              "    <tr style=\"text-align: right;\">\n",
              "      <th></th>\n",
              "      <th>Name</th>\n",
              "      <th>Sex</th>\n",
              "      <th>Count</th>\n",
              "      <th>Year</th>\n",
              "    </tr>\n",
              "  </thead>\n",
              "  <tbody>\n",
              "    <tr>\n",
              "      <th>0</th>\n",
              "      <td>Emily</td>\n",
              "      <td>F</td>\n",
              "      <td>25735</td>\n",
              "      <td>1997</td>\n",
              "    </tr>\n",
              "    <tr>\n",
              "      <th>1</th>\n",
              "      <td>Jessica</td>\n",
              "      <td>F</td>\n",
              "      <td>21044</td>\n",
              "      <td>1997</td>\n",
              "    </tr>\n",
              "    <tr>\n",
              "      <th>2</th>\n",
              "      <td>Ashley</td>\n",
              "      <td>F</td>\n",
              "      <td>20895</td>\n",
              "      <td>1997</td>\n",
              "    </tr>\n",
              "    <tr>\n",
              "      <th>3</th>\n",
              "      <td>Sarah</td>\n",
              "      <td>F</td>\n",
              "      <td>20712</td>\n",
              "      <td>1997</td>\n",
              "    </tr>\n",
              "    <tr>\n",
              "      <th>4</th>\n",
              "      <td>Hannah</td>\n",
              "      <td>F</td>\n",
              "      <td>20594</td>\n",
              "      <td>1997</td>\n",
              "    </tr>\n",
              "  </tbody>\n",
              "</table>\n",
              "</div>\n",
              "      <button class=\"colab-df-convert\" onclick=\"convertToInteractive('df-3b7739b6-c35c-4dde-bd24-694169f1c92f')\"\n",
              "              title=\"Convert this dataframe to an interactive table.\"\n",
              "              style=\"display:none;\">\n",
              "        \n",
              "  <svg xmlns=\"http://www.w3.org/2000/svg\" height=\"24px\"viewBox=\"0 0 24 24\"\n",
              "       width=\"24px\">\n",
              "    <path d=\"M0 0h24v24H0V0z\" fill=\"none\"/>\n",
              "    <path d=\"M18.56 5.44l.94 2.06.94-2.06 2.06-.94-2.06-.94-.94-2.06-.94 2.06-2.06.94zm-11 1L8.5 8.5l.94-2.06 2.06-.94-2.06-.94L8.5 2.5l-.94 2.06-2.06.94zm10 10l.94 2.06.94-2.06 2.06-.94-2.06-.94-.94-2.06-.94 2.06-2.06.94z\"/><path d=\"M17.41 7.96l-1.37-1.37c-.4-.4-.92-.59-1.43-.59-.52 0-1.04.2-1.43.59L10.3 9.45l-7.72 7.72c-.78.78-.78 2.05 0 2.83L4 21.41c.39.39.9.59 1.41.59.51 0 1.02-.2 1.41-.59l7.78-7.78 2.81-2.81c.8-.78.8-2.07 0-2.86zM5.41 20L4 18.59l7.72-7.72 1.47 1.35L5.41 20z\"/>\n",
              "  </svg>\n",
              "      </button>\n",
              "      \n",
              "  <style>\n",
              "    .colab-df-container {\n",
              "      display:flex;\n",
              "      flex-wrap:wrap;\n",
              "      gap: 12px;\n",
              "    }\n",
              "\n",
              "    .colab-df-convert {\n",
              "      background-color: #E8F0FE;\n",
              "      border: none;\n",
              "      border-radius: 50%;\n",
              "      cursor: pointer;\n",
              "      display: none;\n",
              "      fill: #1967D2;\n",
              "      height: 32px;\n",
              "      padding: 0 0 0 0;\n",
              "      width: 32px;\n",
              "    }\n",
              "\n",
              "    .colab-df-convert:hover {\n",
              "      background-color: #E2EBFA;\n",
              "      box-shadow: 0px 1px 2px rgba(60, 64, 67, 0.3), 0px 1px 3px 1px rgba(60, 64, 67, 0.15);\n",
              "      fill: #174EA6;\n",
              "    }\n",
              "\n",
              "    [theme=dark] .colab-df-convert {\n",
              "      background-color: #3B4455;\n",
              "      fill: #D2E3FC;\n",
              "    }\n",
              "\n",
              "    [theme=dark] .colab-df-convert:hover {\n",
              "      background-color: #434B5C;\n",
              "      box-shadow: 0px 1px 3px 1px rgba(0, 0, 0, 0.15);\n",
              "      filter: drop-shadow(0px 1px 2px rgba(0, 0, 0, 0.3));\n",
              "      fill: #FFFFFF;\n",
              "    }\n",
              "  </style>\n",
              "\n",
              "      <script>\n",
              "        const buttonEl =\n",
              "          document.querySelector('#df-3b7739b6-c35c-4dde-bd24-694169f1c92f button.colab-df-convert');\n",
              "        buttonEl.style.display =\n",
              "          google.colab.kernel.accessAllowed ? 'block' : 'none';\n",
              "\n",
              "        async function convertToInteractive(key) {\n",
              "          const element = document.querySelector('#df-3b7739b6-c35c-4dde-bd24-694169f1c92f');\n",
              "          const dataTable =\n",
              "            await google.colab.kernel.invokeFunction('convertToInteractive',\n",
              "                                                     [key], {});\n",
              "          if (!dataTable) return;\n",
              "\n",
              "          const docLinkHtml = 'Like what you see? Visit the ' +\n",
              "            '<a target=\"_blank\" href=https://colab.research.google.com/notebooks/data_table.ipynb>data table notebook</a>'\n",
              "            + ' to learn more about interactive tables.';\n",
              "          element.innerHTML = '';\n",
              "          dataTable['output_type'] = 'display_data';\n",
              "          await google.colab.output.renderOutput(dataTable, element);\n",
              "          const docLink = document.createElement('div');\n",
              "          docLink.innerHTML = docLinkHtml;\n",
              "          element.appendChild(docLink);\n",
              "        }\n",
              "      </script>\n",
              "    </div>\n",
              "  </div>\n",
              "  "
            ]
          },
          "metadata": {},
          "execution_count": 5
        }
      ]
    },
    {
      "cell_type": "code",
      "source": [
        "states.head()"
      ],
      "metadata": {
        "colab": {
          "base_uri": "https://localhost:8080/",
          "height": 206
        },
        "id": "Nz5XI0Vp8ghB",
        "outputId": "c2c23325-fae9-4334-90cc-eb2d15ea4800"
      },
      "execution_count": null,
      "outputs": [
        {
          "output_type": "execute_result",
          "data": {
            "text/plain": [
              "  State Sex  Year      Name  Count  Total  Count_Normalized\n",
              "0    OR   F  1910   Dorothy     57   1373          0.041515\n",
              "1    OR   F  1910      Mary     54   1373          0.039330\n",
              "2    OR   F  1910     Helen     48   1373          0.034960\n",
              "3    OR   F  1910      Ruth     46   1373          0.033503\n",
              "4    OR   F  1910  Margaret     43   1373          0.031318"
            ],
            "text/html": [
              "\n",
              "  <div id=\"df-64a5df7a-afc1-4b4a-a5fc-f0bec82a328d\">\n",
              "    <div class=\"colab-df-container\">\n",
              "      <div>\n",
              "<style scoped>\n",
              "    .dataframe tbody tr th:only-of-type {\n",
              "        vertical-align: middle;\n",
              "    }\n",
              "\n",
              "    .dataframe tbody tr th {\n",
              "        vertical-align: top;\n",
              "    }\n",
              "\n",
              "    .dataframe thead th {\n",
              "        text-align: right;\n",
              "    }\n",
              "</style>\n",
              "<table border=\"1\" class=\"dataframe\">\n",
              "  <thead>\n",
              "    <tr style=\"text-align: right;\">\n",
              "      <th></th>\n",
              "      <th>State</th>\n",
              "      <th>Sex</th>\n",
              "      <th>Year</th>\n",
              "      <th>Name</th>\n",
              "      <th>Count</th>\n",
              "      <th>Total</th>\n",
              "      <th>Count_Normalized</th>\n",
              "    </tr>\n",
              "  </thead>\n",
              "  <tbody>\n",
              "    <tr>\n",
              "      <th>0</th>\n",
              "      <td>OR</td>\n",
              "      <td>F</td>\n",
              "      <td>1910</td>\n",
              "      <td>Dorothy</td>\n",
              "      <td>57</td>\n",
              "      <td>1373</td>\n",
              "      <td>0.041515</td>\n",
              "    </tr>\n",
              "    <tr>\n",
              "      <th>1</th>\n",
              "      <td>OR</td>\n",
              "      <td>F</td>\n",
              "      <td>1910</td>\n",
              "      <td>Mary</td>\n",
              "      <td>54</td>\n",
              "      <td>1373</td>\n",
              "      <td>0.039330</td>\n",
              "    </tr>\n",
              "    <tr>\n",
              "      <th>2</th>\n",
              "      <td>OR</td>\n",
              "      <td>F</td>\n",
              "      <td>1910</td>\n",
              "      <td>Helen</td>\n",
              "      <td>48</td>\n",
              "      <td>1373</td>\n",
              "      <td>0.034960</td>\n",
              "    </tr>\n",
              "    <tr>\n",
              "      <th>3</th>\n",
              "      <td>OR</td>\n",
              "      <td>F</td>\n",
              "      <td>1910</td>\n",
              "      <td>Ruth</td>\n",
              "      <td>46</td>\n",
              "      <td>1373</td>\n",
              "      <td>0.033503</td>\n",
              "    </tr>\n",
              "    <tr>\n",
              "      <th>4</th>\n",
              "      <td>OR</td>\n",
              "      <td>F</td>\n",
              "      <td>1910</td>\n",
              "      <td>Margaret</td>\n",
              "      <td>43</td>\n",
              "      <td>1373</td>\n",
              "      <td>0.031318</td>\n",
              "    </tr>\n",
              "  </tbody>\n",
              "</table>\n",
              "</div>\n",
              "      <button class=\"colab-df-convert\" onclick=\"convertToInteractive('df-64a5df7a-afc1-4b4a-a5fc-f0bec82a328d')\"\n",
              "              title=\"Convert this dataframe to an interactive table.\"\n",
              "              style=\"display:none;\">\n",
              "        \n",
              "  <svg xmlns=\"http://www.w3.org/2000/svg\" height=\"24px\"viewBox=\"0 0 24 24\"\n",
              "       width=\"24px\">\n",
              "    <path d=\"M0 0h24v24H0V0z\" fill=\"none\"/>\n",
              "    <path d=\"M18.56 5.44l.94 2.06.94-2.06 2.06-.94-2.06-.94-.94-2.06-.94 2.06-2.06.94zm-11 1L8.5 8.5l.94-2.06 2.06-.94-2.06-.94L8.5 2.5l-.94 2.06-2.06.94zm10 10l.94 2.06.94-2.06 2.06-.94-2.06-.94-.94-2.06-.94 2.06-2.06.94z\"/><path d=\"M17.41 7.96l-1.37-1.37c-.4-.4-.92-.59-1.43-.59-.52 0-1.04.2-1.43.59L10.3 9.45l-7.72 7.72c-.78.78-.78 2.05 0 2.83L4 21.41c.39.39.9.59 1.41.59.51 0 1.02-.2 1.41-.59l7.78-7.78 2.81-2.81c.8-.78.8-2.07 0-2.86zM5.41 20L4 18.59l7.72-7.72 1.47 1.35L5.41 20z\"/>\n",
              "  </svg>\n",
              "      </button>\n",
              "      \n",
              "  <style>\n",
              "    .colab-df-container {\n",
              "      display:flex;\n",
              "      flex-wrap:wrap;\n",
              "      gap: 12px;\n",
              "    }\n",
              "\n",
              "    .colab-df-convert {\n",
              "      background-color: #E8F0FE;\n",
              "      border: none;\n",
              "      border-radius: 50%;\n",
              "      cursor: pointer;\n",
              "      display: none;\n",
              "      fill: #1967D2;\n",
              "      height: 32px;\n",
              "      padding: 0 0 0 0;\n",
              "      width: 32px;\n",
              "    }\n",
              "\n",
              "    .colab-df-convert:hover {\n",
              "      background-color: #E2EBFA;\n",
              "      box-shadow: 0px 1px 2px rgba(60, 64, 67, 0.3), 0px 1px 3px 1px rgba(60, 64, 67, 0.15);\n",
              "      fill: #174EA6;\n",
              "    }\n",
              "\n",
              "    [theme=dark] .colab-df-convert {\n",
              "      background-color: #3B4455;\n",
              "      fill: #D2E3FC;\n",
              "    }\n",
              "\n",
              "    [theme=dark] .colab-df-convert:hover {\n",
              "      background-color: #434B5C;\n",
              "      box-shadow: 0px 1px 3px 1px rgba(0, 0, 0, 0.15);\n",
              "      filter: drop-shadow(0px 1px 2px rgba(0, 0, 0, 0.3));\n",
              "      fill: #FFFFFF;\n",
              "    }\n",
              "  </style>\n",
              "\n",
              "      <script>\n",
              "        const buttonEl =\n",
              "          document.querySelector('#df-64a5df7a-afc1-4b4a-a5fc-f0bec82a328d button.colab-df-convert');\n",
              "        buttonEl.style.display =\n",
              "          google.colab.kernel.accessAllowed ? 'block' : 'none';\n",
              "\n",
              "        async function convertToInteractive(key) {\n",
              "          const element = document.querySelector('#df-64a5df7a-afc1-4b4a-a5fc-f0bec82a328d');\n",
              "          const dataTable =\n",
              "            await google.colab.kernel.invokeFunction('convertToInteractive',\n",
              "                                                     [key], {});\n",
              "          if (!dataTable) return;\n",
              "\n",
              "          const docLinkHtml = 'Like what you see? Visit the ' +\n",
              "            '<a target=\"_blank\" href=https://colab.research.google.com/notebooks/data_table.ipynb>data table notebook</a>'\n",
              "            + ' to learn more about interactive tables.';\n",
              "          element.innerHTML = '';\n",
              "          dataTable['output_type'] = 'display_data';\n",
              "          await google.colab.output.renderOutput(dataTable, element);\n",
              "          const docLink = document.createElement('div');\n",
              "          docLink.innerHTML = docLinkHtml;\n",
              "          element.appendChild(docLink);\n",
              "        }\n",
              "      </script>\n",
              "    </div>\n",
              "  </div>\n",
              "  "
            ]
          },
          "metadata": {},
          "execution_count": 6
        }
      ]
    },
    {
      "cell_type": "markdown",
      "source": [
        "Amplitude dos Anos"
      ],
      "metadata": {
        "id": "7ScGeswA9WEW"
      }
    },
    {
      "cell_type": "code",
      "source": [
        "ano_states=states['Year']"
      ],
      "metadata": {
        "id": "rPdbCjeG9mUs"
      },
      "execution_count": null,
      "outputs": []
    },
    {
      "cell_type": "code",
      "source": [
        "ano_names=names['Year']"
      ],
      "metadata": {
        "id": "HGUMtYKbE-4y"
      },
      "execution_count": null,
      "outputs": []
    },
    {
      "cell_type": "code",
      "source": [
        "Counter(ano_states)"
      ],
      "metadata": {
        "id": "r9wU8FJbkpee",
        "colab": {
          "base_uri": "https://localhost:8080/"
        },
        "outputId": "eba19937-80b9-4dfa-e57c-18c00d6b3907"
      },
      "execution_count": null,
      "outputs": [
        {
          "output_type": "execute_result",
          "data": {
            "text/plain": [
              "Counter({1910: 16829,\n",
              "         1911: 17621,\n",
              "         1912: 23179,\n",
              "         1913: 25276,\n",
              "         1914: 28822,\n",
              "         1915: 33630,\n",
              "         1916: 34726,\n",
              "         1917: 35381,\n",
              "         1918: 36999,\n",
              "         1919: 36518,\n",
              "         1920: 37677,\n",
              "         1921: 38226,\n",
              "         1922: 37914,\n",
              "         1923: 37710,\n",
              "         1924: 38399,\n",
              "         1925: 37600,\n",
              "         1926: 37314,\n",
              "         1927: 37451,\n",
              "         1928: 36834,\n",
              "         1929: 35908,\n",
              "         1930: 36002,\n",
              "         1931: 34905,\n",
              "         1932: 35075,\n",
              "         1933: 34125,\n",
              "         1934: 34648,\n",
              "         1935: 34604,\n",
              "         1936: 34352,\n",
              "         1937: 34866,\n",
              "         1938: 35689,\n",
              "         1939: 35403,\n",
              "         1940: 36154,\n",
              "         1941: 36677,\n",
              "         1942: 38720,\n",
              "         1943: 39366,\n",
              "         1944: 38315,\n",
              "         1945: 37831,\n",
              "         1946: 41319,\n",
              "         1947: 43956,\n",
              "         1948: 43189,\n",
              "         1949: 43520,\n",
              "         1950: 43843,\n",
              "         1951: 44830,\n",
              "         1952: 45742,\n",
              "         1953: 46719,\n",
              "         1954: 47862,\n",
              "         1955: 48937,\n",
              "         1956: 50110,\n",
              "         1957: 51206,\n",
              "         1958: 51361,\n",
              "         1959: 52326,\n",
              "         1960: 52873,\n",
              "         1961: 53446,\n",
              "         1962: 52997,\n",
              "         1963: 52971,\n",
              "         1964: 53051,\n",
              "         1965: 51231,\n",
              "         1966: 50539,\n",
              "         1967: 50560,\n",
              "         1968: 51079,\n",
              "         1969: 52864,\n",
              "         1970: 55259,\n",
              "         1971: 55309,\n",
              "         1972: 53574,\n",
              "         1973: 53189,\n",
              "         1974: 53708,\n",
              "         1975: 54528,\n",
              "         1976: 54734,\n",
              "         1977: 56927,\n",
              "         1978: 56803,\n",
              "         1979: 58693,\n",
              "         1980: 59574,\n",
              "         1981: 59397,\n",
              "         1982: 59901,\n",
              "         1983: 58403,\n",
              "         1984: 58958,\n",
              "         1985: 60580,\n",
              "         1986: 61222,\n",
              "         1987: 62165,\n",
              "         1988: 64237,\n",
              "         1989: 67045,\n",
              "         1990: 69170,\n",
              "         1991: 69768,\n",
              "         1992: 70901,\n",
              "         1993: 70786,\n",
              "         1994: 71390,\n",
              "         1995: 71472,\n",
              "         1996: 72341,\n",
              "         1997: 73733,\n",
              "         1998: 77462,\n",
              "         1999: 78773,\n",
              "         2000: 81406,\n",
              "         2001: 82449,\n",
              "         2002: 83274,\n",
              "         2003: 85620,\n",
              "         2004: 87765,\n",
              "         2005: 89824,\n",
              "         2006: 93153,\n",
              "         2007: 95701,\n",
              "         2008: 96308,\n",
              "         2009: 95986,\n",
              "         2010: 94593,\n",
              "         2011: 93879,\n",
              "         2012: 94374,\n",
              "         2013: 94165,\n",
              "         2014: 95817,\n",
              "         2015: 96184,\n",
              "         2016: 96301,\n",
              "         2017: 95269,\n",
              "         2018: 94817,\n",
              "         2019: 94753,\n",
              "         2020: 93531,\n",
              "         2021: 95286})"
            ]
          },
          "metadata": {},
          "execution_count": 9
        }
      ]
    },
    {
      "cell_type": "code",
      "source": [
        "Counter(ano_names)"
      ],
      "metadata": {
        "colab": {
          "base_uri": "https://localhost:8080/"
        },
        "id": "OuStv3K5F9DW",
        "outputId": "0b6712a6-f4ba-43ef-ae7f-14b1aca5def2"
      },
      "execution_count": null,
      "outputs": [
        {
          "output_type": "execute_result",
          "data": {
            "text/plain": [
              "Counter({1997: 26972,\n",
              "         1936: 8893,\n",
              "         1954: 10984,\n",
              "         1888: 2651,\n",
              "         1929: 9823,\n",
              "         1882: 2127,\n",
              "         1899: 3042,\n",
              "         1977: 18183,\n",
              "         1917: 9912,\n",
              "         1960: 11925,\n",
              "         1898: 3264,\n",
              "         1970: 14782,\n",
              "         1903: 3389,\n",
              "         1976: 17400,\n",
              "         1955: 11127,\n",
              "         2019: 32073,\n",
              "         1992: 25428,\n",
              "         1982: 19700,\n",
              "         1918: 10398,\n",
              "         1991: 25115,\n",
              "         2001: 30281,\n",
              "         1911: 4867,\n",
              "         1935: 9038,\n",
              "         1912: 6351,\n",
              "         2002: 30568,\n",
              "         1948: 10241,\n",
              "         1987: 21411,\n",
              "         1909: 4227,\n",
              "         1915: 9357,\n",
              "         1986: 20660,\n",
              "         1908: 4018,\n",
              "         1889: 2590,\n",
              "         1923: 10643,\n",
              "         1985: 20091,\n",
              "         1965: 11955,\n",
              "         1904: 3560,\n",
              "         1914: 7965,\n",
              "         1984: 19510,\n",
              "         1962: 12214,\n",
              "         1975: 16950,\n",
              "         2016: 33043,\n",
              "         1916: 9696,\n",
              "         1930: 9792,\n",
              "         1979: 19043,\n",
              "         1895: 3049,\n",
              "         1883: 2084,\n",
              "         2017: 32648,\n",
              "         1968: 12938,\n",
              "         1943: 9408,\n",
              "         2012: 33763,\n",
              "         1890: 2695,\n",
              "         1906: 3633,\n",
              "         1939: 8917,\n",
              "         1969: 13751,\n",
              "         1944: 9151,\n",
              "         1996: 26424,\n",
              "         1971: 15298,\n",
              "         2009: 34722,\n",
              "         1934: 9180,\n",
              "         1998: 27907,\n",
              "         1945: 9025,\n",
              "         1924: 10870,\n",
              "         1925: 10638,\n",
              "         1974: 16249,\n",
              "         1952: 10646,\n",
              "         1980: 19457,\n",
              "         1993: 25967,\n",
              "         1983: 19412,\n",
              "         2000: 29776,\n",
              "         1978: 18234,\n",
              "         2011: 33923,\n",
              "         1989: 23775,\n",
              "         1886: 2392,\n",
              "         2015: 33156,\n",
              "         1885: 2294,\n",
              "         1931: 9298,\n",
              "         2020: 31453,\n",
              "         1922: 10756,\n",
              "         1928: 10161,\n",
              "         1893: 2831,\n",
              "         1940: 8961,\n",
              "         1942: 9423,\n",
              "         1967: 12404,\n",
              "         2018: 32196,\n",
              "         1933: 9012,\n",
              "         2014: 33280,\n",
              "         1946: 9704,\n",
              "         1999: 28555,\n",
              "         1949: 10271,\n",
              "         1884: 2297,\n",
              "         1966: 12159,\n",
              "         1907: 3948,\n",
              "         1961: 12185,\n",
              "         1990: 24717,\n",
              "         1905: 3655,\n",
              "         1901: 3153,\n",
              "         1910: 4629,\n",
              "         1988: 22372,\n",
              "         1894: 2941,\n",
              "         1887: 2373,\n",
              "         1941: 9086,\n",
              "         1995: 26080,\n",
              "         1902: 3362,\n",
              "         1892: 2921,\n",
              "         1880: 2000,\n",
              "         1994: 25998,\n",
              "         1964: 12397,\n",
              "         1891: 2660,\n",
              "         1919: 10369,\n",
              "         1953: 10837,\n",
              "         1927: 10404,\n",
              "         2021: 31537,\n",
              "         1950: 10305,\n",
              "         1932: 9382,\n",
              "         2013: 33313,\n",
              "         1881: 1934,\n",
              "         2003: 31191,\n",
              "         1897: 3028,\n",
              "         2004: 32055,\n",
              "         1959: 11766,\n",
              "         1957: 11567,\n",
              "         1913: 6968,\n",
              "         1896: 3091,\n",
              "         1981: 19483,\n",
              "         1951: 10467,\n",
              "         1938: 9031,\n",
              "         1963: 12286,\n",
              "         1926: 10459,\n",
              "         1921: 10855,\n",
              "         1973: 15686,\n",
              "         1937: 8947,\n",
              "         1972: 15416,\n",
              "         1947: 10371,\n",
              "         1956: 11344,\n",
              "         1920: 10756,\n",
              "         2005: 32556,\n",
              "         2007: 34965,\n",
              "         1958: 11529,\n",
              "         2006: 34097,\n",
              "         1900: 3730,\n",
              "         2010: 34089,\n",
              "         2008: 35088})"
            ]
          },
          "metadata": {},
          "execution_count": 18
        }
      ]
    },
    {
      "cell_type": "code",
      "source": [
        "a=ano_names. value_counts().sort_index()"
      ],
      "metadata": {
        "id": "DGhHQp1LFHM6"
      },
      "execution_count": null,
      "outputs": []
    },
    {
      "cell_type": "code",
      "source": [
        "a.plot.bar(figsize=(50,25))"
      ],
      "metadata": {
        "colab": {
          "base_uri": "https://localhost:8080/",
          "height": 501
        },
        "id": "_4aVObmqSIFV",
        "outputId": "df8ea7f7-b1a5-4e55-97c8-475a0d4fb510"
      },
      "execution_count": null,
      "outputs": [
        {
          "output_type": "execute_result",
          "data": {
            "text/plain": [
              "<AxesSubplot:>"
            ]
          },
          "metadata": {},
          "execution_count": 61
        },
        {
          "output_type": "display_data",
          "data": {
            "text/plain": [
              "<Figure size 3600x1800 with 1 Axes>"
            ],
            "image/png": "[encoded data removed]"
          },
          "metadata": {
            "needs_background": "light"
          }
        }
      ]
    },
    {
      "cell_type": "markdown",
      "source": [
        "Ano com mais nomes registrados"
      ],
      "metadata": {
        "id": "kst_mrj_oRfm"
      }
    },
    {
      "cell_type": "code",
      "source": [
        "st.mode(list(ano_states))"
      ],
      "metadata": {
        "colab": {
          "base_uri": "https://localhost:8080/"
        },
        "id": "DqpQWw-MoBqZ",
        "outputId": "c6606db5-c1f9-46cf-92cf-b4844ef730d9"
      },
      "execution_count": null,
      "outputs": [
        {
          "output_type": "execute_result",
          "data": {
            "text/plain": [
              "2008"
            ]
          },
          "metadata": {},
          "execution_count": 12
        }
      ]
    },
    {
      "cell_type": "code",
      "source": [
        "st.mode(list(ano_names))"
      ],
      "metadata": {
        "colab": {
          "base_uri": "https://localhost:8080/"
        },
        "id": "VH046UREFbHl",
        "outputId": "f76cd098-4250-4cfe-8f04-180e3bf4d1ca"
      },
      "execution_count": null,
      "outputs": [
        {
          "output_type": "execute_result",
          "data": {
            "text/plain": [
              "2008"
            ]
          },
          "metadata": {},
          "execution_count": 13
        }
      ]
    },
    {
      "cell_type": "markdown",
      "source": [
        "Não esta em concordancia com a vida real: https://www.dadosmundiais.com/america/usa/crescimento-populacao.php"
      ],
      "metadata": {
        "id": "6hKWcnWqAPbv"
      }
    },
    {
      "cell_type": "markdown",
      "source": [
        "Tem um grafico nesse link, usar e comparar. registrados == nascidos??"
      ],
      "metadata": {
        "id": "qrInSE8iAdK4"
      }
    },
    {
      "cell_type": "markdown",
      "source": [
        "Nomes unicos"
      ],
      "metadata": {
        "id": "I7HYWrGNCVhX"
      }
    },
    {
      "cell_type": "code",
      "source": [
        "nomes=states['Name']\n",
        "nome_unico_states = nomes.unique()\n"
      ],
      "metadata": {
        "id": "OA2Zjd-zCYiO"
      },
      "execution_count": null,
      "outputs": []
    },
    {
      "cell_type": "code",
      "source": [
        "nomes=names['Name']\n",
        "nome_unico_names = nomes.unique()"
      ],
      "metadata": {
        "id": "Ljg-RR7IGP5M"
      },
      "execution_count": null,
      "outputs": []
    },
    {
      "cell_type": "code",
      "source": [
        "nome_unico_names.size"
      ],
      "metadata": {
        "colab": {
          "base_uri": "https://localhost:8080/"
        },
        "id": "-pgidR1uGwqm",
        "outputId": "1afbd617-fba9-47e5-d49d-3236543e2ed4"
      },
      "execution_count": null,
      "outputs": [
        {
          "output_type": "execute_result",
          "data": {
            "text/plain": [
              "101338"
            ]
          },
          "metadata": {},
          "execution_count": 25
        }
      ]
    },
    {
      "cell_type": "code",
      "source": [
        "nome_unico_states.size"
      ],
      "metadata": {
        "colab": {
          "base_uri": "https://localhost:8080/"
        },
        "id": "7qs0EZ8CDYsB",
        "outputId": "ea2635a0-85d7-41a6-dd66-969a4ae7f3b6"
      },
      "execution_count": null,
      "outputs": [
        {
          "output_type": "execute_result",
          "data": {
            "text/plain": [
              "33492"
            ]
          },
          "metadata": {},
          "execution_count": 23
        }
      ]
    },
    {
      "cell_type": "markdown",
      "source": [
        "Nome que mais aparece"
      ],
      "metadata": {
        "id": "6hV4whcUXUjR"
      }
    },
    {
      "cell_type": "code",
      "source": [
        "nomes = states['Name']\n",
        "nomes.mode()"
      ],
      "metadata": {
        "colab": {
          "base_uri": "https://localhost:8080/"
        },
        "id": "Xr0c6UjzXW2a",
        "outputId": "ed9b9648-52fb-44cd-c640-4c581bfce865"
      },
      "execution_count": null,
      "outputs": [
        {
          "output_type": "execute_result",
          "data": {
            "text/plain": [
              "0    James\n",
              "dtype: object"
            ]
          },
          "metadata": {},
          "execution_count": 26
        }
      ]
    },
    {
      "cell_type": "code",
      "source": [
        "nomes = names['Name']\n",
        "nomes.mode()"
      ],
      "metadata": {
        "colab": {
          "base_uri": "https://localhost:8080/"
        },
        "id": "Y0Po-Dt_G94K",
        "outputId": "ef45ed43-0f14-4aef-d79b-b383cb4c277b"
      },
      "execution_count": null,
      "outputs": [
        {
          "output_type": "execute_result",
          "data": {
            "text/plain": [
              "0     Francis\n",
              "1       James\n",
              "2        Jean\n",
              "3       Jesse\n",
              "4      Jessie\n",
              "5        John\n",
              "6     Johnnie\n",
              "7      Joseph\n",
              "8         Lee\n",
              "9      Leslie\n",
              "10     Marion\n",
              "11      Ollie\n",
              "12     Sidney\n",
              "13     Tommie\n",
              "14    William\n",
              "dtype: object"
            ]
          },
          "metadata": {},
          "execution_count": 27
        }
      ]
    },
    {
      "cell_type": "markdown",
      "source": [
        "Numero de James"
      ],
      "metadata": {
        "id": "QAKf7ueMg1V0"
      }
    },
    {
      "cell_type": "code",
      "source": [
        "Filtro_James=names['Name']=='James'\n",
        "Counter(Filtro_James)"
      ],
      "metadata": {
        "colab": {
          "base_uri": "https://localhost:8080/"
        },
        "id": "nLwjC1uXf3PL",
        "outputId": "5fe47bdc-4a04-40f9-fdc2-ce896c1dd310"
      },
      "execution_count": null,
      "outputs": [
        {
          "output_type": "execute_result",
          "data": {
            "text/plain": [
              "Counter({False: 2052497, True: 284})"
            ]
          },
          "metadata": {},
          "execution_count": 33
        }
      ]
    },
    {
      "cell_type": "code",
      "source": [
        "Filtro_James=states['Name']=='James'\n",
        "Counter(Filtro_James)"
      ],
      "metadata": {
        "colab": {
          "base_uri": "https://localhost:8080/"
        },
        "id": "ZWKOspnQIU_f",
        "outputId": "9f250f9f-d914-44c5-aa20-0c90112d8e44"
      },
      "execution_count": null,
      "outputs": [
        {
          "output_type": "execute_result",
          "data": {
            "text/plain": [
              "Counter({False: 6330281, True: 7453})"
            ]
          },
          "metadata": {},
          "execution_count": 34
        }
      ]
    },
    {
      "cell_type": "markdown",
      "source": [
        "Nome feminino que mais aparece"
      ],
      "metadata": {
        "id": "HxNsNiGyZ75k"
      }
    },
    {
      "cell_type": "code",
      "source": [
        "Filtro_sexo=states['Sex']=='F'\n",
        "states_filtrado = states[Filtro_sexo]\n",
        "nome_feminino = states_filtrado['Name']\n",
        "nome_feminino.mode()"
      ],
      "metadata": {
        "colab": {
          "base_uri": "https://localhost:8080/"
        },
        "id": "AMHSApxKZ_Yd",
        "outputId": "45f8af5f-d3c6-4007-c3da-dd6111e49ceb"
      },
      "execution_count": null,
      "outputs": [
        {
          "output_type": "execute_result",
          "data": {
            "text/plain": [
              "0    Elizabeth\n",
              "dtype: object"
            ]
          },
          "metadata": {},
          "execution_count": 35
        }
      ]
    },
    {
      "cell_type": "markdown",
      "source": [
        "Numero de Elizabeths"
      ],
      "metadata": {
        "id": "1Uv4qT-Ig4j3"
      }
    },
    {
      "cell_type": "code",
      "source": [
        "Filtro_Elizabeth=states['Name']=='Elizabeth'\n",
        "Counter(Filtro_Elizabeth)"
      ],
      "metadata": {
        "colab": {
          "base_uri": "https://localhost:8080/"
        },
        "id": "O7_7UjCFg8Nm",
        "outputId": "bcdbd94e-7f7a-4e1e-b0de-f9390003f494"
      },
      "execution_count": null,
      "outputs": [
        {
          "output_type": "execute_result",
          "data": {
            "text/plain": [
              "Counter({False: 6353816, True: 5922})"
            ]
          },
          "metadata": {},
          "execution_count": 105
        }
      ]
    },
    {
      "cell_type": "markdown",
      "source": [
        "Nomes por Estado"
      ],
      "metadata": {
        "id": "dpl02Zs4XJdx"
      }
    },
    {
      "cell_type": "code",
      "source": [
        "estado=states['State']"
      ],
      "metadata": {
        "id": "lvgDrL5bGMou",
        "colab": {
          "base_uri": "https://localhost:8080/"
        },
        "outputId": "f599c3d4-6920-450f-926f-eeb2a752cc45"
      },
      "execution_count": null,
      "outputs": [
        {
          "output_type": "execute_result",
          "data": {
            "text/plain": [
              "Counter({'OR': 92410,\n",
              "         'WA': 130809,\n",
              "         'MS': 117316,\n",
              "         'DE': 33706,\n",
              "         'MA': 123558,\n",
              "         'LA': 153712,\n",
              "         'VT': 29483,\n",
              "         'SC': 122527,\n",
              "         'MT': 47144,\n",
              "         'WY': 28751,\n",
              "         'GA': 191367,\n",
              "         'OH': 204165,\n",
              "         'KS': 97839,\n",
              "         'TN': 147212,\n",
              "         'AL': 139293,\n",
              "         'CA': 400762,\n",
              "         'WI': 121398,\n",
              "         'ID': 60445,\n",
              "         'HI': 56069,\n",
              "         'KY': 122608,\n",
              "         'AR': 105373,\n",
              "         'VA': 154400,\n",
              "         'NY': 309532,\n",
              "         'CT': 84948,\n",
              "         'MO': 144136,\n",
              "         'ME': 51852,\n",
              "         'FL': 218192,\n",
              "         'MN': 119310,\n",
              "         'SD': 48865,\n",
              "         'NJ': 159695,\n",
              "         'NH': 40557,\n",
              "         'IA': 97515,\n",
              "         'NV': 50829,\n",
              "         'NM': 77755,\n",
              "         'MD': 116699,\n",
              "         'TX': 368987,\n",
              "         'IN': 145357,\n",
              "         'NC': 181647,\n",
              "         'NE': 74699,\n",
              "         'PA': 206944,\n",
              "         'AZ': 122085,\n",
              "         'WV': 79250,\n",
              "         'UT': 93764,\n",
              "         'OK': 121465,\n",
              "         'ND': 47666,\n",
              "         'CO': 112986,\n",
              "         'IL': 237839,\n",
              "         'DC': 57265,\n",
              "         'AK': 29755,\n",
              "         'RI': 41540,\n",
              "         'MI': 190023,\n",
              "         'TR': 3134,\n",
              "         'PR': 23096})"
            ]
          },
          "metadata": {},
          "execution_count": 6
        }
      ]
    },
    {
      "cell_type": "code",
      "source": [
        "estado.mode()"
      ],
      "metadata": {
        "colab": {
          "base_uri": "https://localhost:8080/"
        },
        "id": "qdDt0hYxmsRR",
        "outputId": "9ca4660e-89e1-475e-81a7-7f5e26c0a386"
      },
      "execution_count": null,
      "outputs": [
        {
          "output_type": "execute_result",
          "data": {
            "text/plain": [
              "0    CA\n",
              "dtype: object"
            ]
          },
          "metadata": {},
          "execution_count": 38
        }
      ]
    },
    {
      "cell_type": "code",
      "source": [
        "x = estado.value_counts()\n",
        "\n",
        "x.plot.bar(figsize=(12,6))"
      ],
      "metadata": {
        "colab": {
          "base_uri": "https://localhost:8080/",
          "height": 398
        },
        "id": "d09-Kw3eWCON",
        "outputId": "df3fd7c1-33c8-4a2d-82d8-a69e58653d2d"
      },
      "execution_count": null,
      "outputs": [
        {
          "output_type": "execute_result",
          "data": {
            "text/plain": [
              "<AxesSubplot:>"
            ]
          },
          "metadata": {},
          "execution_count": 55
        },
        {
          "output_type": "display_data",
          "data": {
            "text/plain": [
              "<Figure size 864x432 with 1 Axes>"
            ],
            "image/png": "[encoded data removed]"
          },
          "metadata": {
            "needs_background": "light"
          }
        }
      ]
    },
    {
      "cell_type": "markdown",
      "source": [
        "Tem a ver com a população de cada estado. +pop = +nomes"
      ],
      "metadata": {
        "id": "-cUsw3oERhXj"
      }
    },
    {
      "cell_type": "code",
      "source": [
        "x.std()"
      ],
      "metadata": {
        "colab": {
          "base_uri": "https://localhost:8080/"
        },
        "id": "BUteC03tPJ1y",
        "outputId": "965835be-1bd3-42ea-a67f-a833039d8b7a"
      },
      "execution_count": null,
      "outputs": [
        {
          "output_type": "execute_result",
          "data": {
            "text/plain": [
              "81896.48913148757"
            ]
          },
          "metadata": {},
          "execution_count": 47
        }
      ]
    },
    {
      "cell_type": "code",
      "source": [
        "x.var()"
      ],
      "metadata": {
        "colab": {
          "base_uri": "https://localhost:8080/"
        },
        "id": "dpA_r8R7PSG4",
        "outputId": "cf1d32ed-d82b-4d5f-844b-33a60012e785"
      },
      "execution_count": null,
      "outputs": [
        {
          "output_type": "execute_result",
          "data": {
            "text/plain": [
              "6707034932.063862"
            ]
          },
          "metadata": {},
          "execution_count": 48
        }
      ]
    },
    {
      "cell_type": "markdown",
      "source": [
        "Nome que mais aparece na CA"
      ],
      "metadata": {
        "id": "eHMWMqEjcNBm"
      }
    },
    {
      "cell_type": "markdown",
      "source": [
        "CA - estado com mais nomes registrados"
      ],
      "metadata": {
        "id": "phvLcqNTm_gc"
      }
    },
    {
      "cell_type": "code",
      "source": [
        "Filtro_CA=states['State']=='CA'\n",
        "states_filtrado_CA = states[Filtro_CA]\n",
        "nome_CA = states_filtrado_CA['Name']\n",
        "nome_CA.mode()"
      ],
      "metadata": {
        "colab": {
          "base_uri": "https://localhost:8080/"
        },
        "id": "9g3Svm3Jm1Yz",
        "outputId": "0bf4dc5f-6a58-4008-f65a-e3846f0176f0"
      },
      "execution_count": null,
      "outputs": [
        {
          "output_type": "execute_result",
          "data": {
            "text/plain": [
              "0    Jean\n",
              "dtype: object"
            ]
          },
          "metadata": {},
          "execution_count": 39
        }
      ]
    },
    {
      "cell_type": "markdown",
      "source": [
        "Numero de James em CA"
      ],
      "metadata": {
        "id": "aDtmfkuAAdxf"
      }
    },
    {
      "cell_type": "code",
      "source": [
        "Filtro_James_CA=states_filtrado_CA['Name']=='James'\n",
        "Counter(Filtro_James_CA)"
      ],
      "metadata": {
        "id": "WRo3IKoAAkxn",
        "colab": {
          "base_uri": "https://localhost:8080/"
        },
        "outputId": "3753e248-52eb-4822-b89c-6cc012744a68"
      },
      "execution_count": null,
      "outputs": [
        {
          "output_type": "execute_result",
          "data": {
            "text/plain": [
              "Counter({False: 400580, True: 182})"
            ]
          },
          "metadata": {},
          "execution_count": 41
        }
      ]
    },
    {
      "cell_type": "markdown",
      "source": [
        "Nomes por sexo:"
      ],
      "metadata": {
        "id": "fEvX2LROEf3E"
      }
    },
    {
      "cell_type": "code",
      "source": [
        "sexo=states['Sex']\n",
        "z= sexo.value_counts().plot(kind = 'pie')"
      ],
      "metadata": {
        "id": "knZuZuh4GZGe",
        "colab": {
          "base_uri": "https://localhost:8080/",
          "height": 248
        },
        "outputId": "01a1ba0c-b9b4-465a-9b78-c9ad7ff4a207"
      },
      "execution_count": null,
      "outputs": [
        {
          "output_type": "display_data",
          "data": {
            "text/plain": [
              "<Figure size 432x288 with 1 Axes>"
            ],
            "image/png": "[encoded data removed]"
          },
          "metadata": {}
        }
      ]
    },
    {
      "cell_type": "markdown",
      "source": [
        "Analise por heatmap"
      ],
      "metadata": {
        "id": "9I42dp7GIHjY"
      }
    },
    {
      "cell_type": "code",
      "source": [
        "sns.set_style(\"whitegrid\")"
      ],
      "metadata": {
        "id": "J_NqXGDy90BT"
      },
      "execution_count": null,
      "outputs": []
    },
    {
      "cell_type": "code",
      "source": [
        "df = pd.read_csv(\"names.csv\")\n",
        "\n",
        "sns.set(rc={\"figure.figsize\": (15, 10)})\n",
        "\n",
        "df_agg = df.groupby([\"Name\", \"Year\"])[\"Count\"].sum().unstack()\n",
        "df_agg[\"diff\"] = df_agg.max(axis=1) - df_agg.min(axis=1)\n",
        "top20 = df_agg[\"diff\"].fillna(0).sort_values().tail(20).index\n",
        "df_subset = (\n",
        "    df.query(\"Name in @top20 and Year > 1910\")\n",
        "    .groupby([\"Name\", \"Year\"])\n",
        "    .sum()\n",
        "    .unstack()\n",
        "    .copy()\n",
        ")\n",
        "names_order = df_subset.sum(axis=1).sort_values(ascending=False).index\n",
        "df_subset = df_subset.loc[names_order].fillna(0)\n",
        "df_subset.columns = [c[1] for c in df_subset.columns]\n",
        "ax = sns.heatmap(df_subset, cmap=\"flare\")\n",
        "_ = ax.set_title(\"Nomes com Maior Mudança de Popularidade\", fontsize=20)"
      ],
      "metadata": {
        "colab": {
          "base_uri": "https://localhost:8080/",
          "height": 633
        },
        "id": "XVzIstFx91pz",
        "outputId": "b24a0203-8002-402c-b05e-a5e80aa3483c"
      },
      "execution_count": null,
      "outputs": [
        {
          "output_type": "display_data",
          "data": {
            "text/plain": [
              "<Figure size 1080x720 with 2 Axes>"
            ],
            "image/png": "[encoded data removed]"
          },
          "metadata": {}
        }
      ]
    },
    {
      "cell_type": "markdown",
      "source": [],
      "metadata": {
        "id": "VGqHkhJoMDCc"
      }
    },
    {
      "cell_type": "code",
      "source": [
        "plt.style.use(\"fivethirtyeight\")\n",
        "color_pal = sns.color_palette()"
      ],
      "metadata": {
        "id": "Eryu5UoaMDUQ"
      },
      "execution_count": null,
      "outputs": []
    },
    {
      "cell_type": "code",
      "source": [
        "df = pd.read_csv('names.csv')\n",
        "states = pd.read_csv('states.csv')"
      ],
      "metadata": {
        "id": "MBUnsRGzME-5"
      },
      "execution_count": null,
      "outputs": []
    },
    {
      "cell_type": "code",
      "source": [
        "def plot_name(df, name, genders=[\"M\", \"F\"]):\n",
        "\n",
        "    fig, ax = plt.subplots(figsize=(15, 5))\n",
        "    gender1 = genders[0]\n",
        "    df.query(\"Name == @name and Sex == @gender1\").set_index(\"Year\").sort_index().plot(\n",
        "        figsize=(15, 5), ax=ax\n",
        "    )\n",
        "    ax.set_title(f\"Popularity of The Name: {name}\")\n",
        "    ax.legend().remove()\n",
        "\n",
        "    if len(genders) == 2:\n",
        "        ax2 = ax.twinx()\n",
        "        gender2 = genders[1]\n",
        "        df.query(\"Name == @name and Sex == @gender2\").set_index(\n",
        "            \"Year\"\n",
        "        ).sort_index().plot(figsize=(15, 5), ax=ax2, color=color_pal[1])\n",
        "        ax2.legend().remove()\n",
        "    fig.legend(genders)\n",
        "    plt.show()"
      ],
      "metadata": {
        "id": "zhDXKaiLMRua"
      },
      "execution_count": null,
      "outputs": []
    },
    {
      "cell_type": "code",
      "source": [
        "plot_name(df, \"Elizabeth\", genders=[\"F\"])"
      ],
      "metadata": {
        "colab": {
          "base_uri": "https://localhost:8080/",
          "height": 360
        },
        "id": "PtHWDss7MrbY",
        "outputId": "ccb9e397-3c16-4254-b2ea-15931a092171"
      },
      "execution_count": null,
      "outputs": [
        {
          "output_type": "display_data",
          "data": {
            "text/plain": [
              "<Figure size 1080x360 with 1 Axes>"
            ],
            "image/png": "[encoded data removed]"
          },
          "metadata": {}
        }
      ]
    },
    {
      "cell_type": "code",
      "source": [
        "plot_name(df, \"James\", genders=[\"M\"])"
      ],
      "metadata": {
        "colab": {
          "base_uri": "https://localhost:8080/",
          "height": 360
        },
        "id": "eb6UooImMX0a",
        "outputId": "88671c99-bdcc-47e1-d1db-0e485e6c70b0"
      },
      "execution_count": null,
      "outputs": [
        {
          "output_type": "display_data",
          "data": {
            "text/plain": [
              "<Figure size 1080x360 with 1 Axes>"
            ],
            "image/png": "[encoded data removed]"
          },
          "metadata": {}
        }
      ]
    },
    {
      "cell_type": "markdown",
      "source": [
        "Notar escalas nos graficos"
      ],
      "metadata": {
        "id": "Dif7AU7dM3FT"
      }
    },
    {
      "cell_type": "markdown",
      "source": [
        "Sim, eu consigo entender esse código. Ele utiliza as bibliotecas matplotlib, seaborn e pandas para criar um gráfico que mostra a popularidade de um determinado nome ao longo dos anos nos Estados Unidos.\n",
        "\n",
        "A função plot_name recebe como argumentos um DataFrame df que contém os dados de popularidade dos nomes, um nome específico a ser plotado e uma lista de gêneros (opcional) que pode ser \"M\" para masculino ou \"F\" para feminino.\n",
        "\n",
        "A função começa definindo o estilo de plotagem como fivethirtyeight usando a função plt.style.use. Em seguida, o código carrega dois arquivos CSV contendo os dados de nomes e estados.\n",
        "\n",
        "Em seguida, a função plot_name cria uma figura (fig) e um objeto de eixos (ax) para plotar os dados do nome escolhido. Em seguida, é definido o gênero a ser plotado com base na lista de gêneros passada como argumento. O código usa o método query para selecionar apenas as linhas do DataFrame df que correspondem ao nome e gênero específicos, classifica os dados pelo ano (Year) e, em seguida, plota o gráfico usando o método plot.\n",
        "\n",
        "Em seguida, é definido um título para o gráfico com base no nome passado como argumento e a legenda é removida usando o método legend().remove(). Se a lista de gêneros tiver dois elementos, o código cria outro objeto de eixos (ax2) usando o método twinx e plota os dados correspondentes ao segundo gênero usando uma cor diferente. A legenda para o segundo gênero também é removida.\n",
        "\n",
        "Finalmente, a função cria uma legenda para os gêneros, adiciona a legenda à figura (fig) e exibe o gráfico usando plt.show()."
      ],
      "metadata": {
        "id": "k72J9pIzOGjV"
      }
    },
    {
      "cell_type": "markdown",
      "source": [
        "ANALISE DESCRITIVA"
      ],
      "metadata": {
        "id": "jveZgo8sDDA9"
      }
    },
    {
      "cell_type": "markdown",
      "source": [
        "UNIVARIADA"
      ],
      "metadata": {
        "id": "KL37cNMADGtW"
      }
    },
    {
      "cell_type": "code",
      "source": [
        "names['Name'].value_counts()"
      ],
      "metadata": {
        "colab": {
          "base_uri": "https://localhost:8080/"
        },
        "id": "p-kZiAf9DIbV",
        "outputId": "c6d60e00-0dc2-4ca0-fd19-5f77eb733986"
      },
      "execution_count": null,
      "outputs": [
        {
          "output_type": "execute_result",
          "data": {
            "text/plain": [
              "Jean        284\n",
              "Johnnie     284\n",
              "Jessie      284\n",
              "Marion      284\n",
              "Lee         284\n",
              "           ... \n",
              "Demeatra      1\n",
              "Getrudes      1\n",
              "Fordie        1\n",
              "Flosie        1\n",
              "Zkye          1\n",
              "Name: Name, Length: 101338, dtype: int64"
            ]
          },
          "metadata": {},
          "execution_count": 9
        }
      ]
    },
    {
      "cell_type": "code",
      "source": [
        "states['Name'].value_counts()"
      ],
      "metadata": {
        "colab": {
          "base_uri": "https://localhost:8080/"
        },
        "id": "7BggAzIyEpA4",
        "outputId": "da975501-7067-46eb-e718-5a4a91617e57"
      },
      "execution_count": null,
      "outputs": [
        {
          "output_type": "execute_result",
          "data": {
            "text/plain": [
              "James         7453\n",
              "Leslie        7418\n",
              "Lee           7318\n",
              "John          7267\n",
              "Robert        7213\n",
              "              ... \n",
              "Morio            1\n",
              "Seiki            1\n",
              "Tsuyoshi         1\n",
              "Yoshikatsu       1\n",
              "Thyago           1\n",
              "Name: Name, Length: 33492, dtype: int64"
            ]
          },
          "metadata": {},
          "execution_count": 10
        }
      ]
    },
    {
      "cell_type": "markdown",
      "source": [
        "Apos isso ver os nomes que mais apareceram (feito mais acima) e ver se bate com a vida real"
      ],
      "metadata": {
        "id": "zCF4kHXNEwda"
      }
    },
    {
      "cell_type": "markdown",
      "source": [
        "Ano, sexo e year ja foi feito uma analise"
      ],
      "metadata": {
        "id": "zMrJrVk3FgX7"
      }
    }
  ]
}